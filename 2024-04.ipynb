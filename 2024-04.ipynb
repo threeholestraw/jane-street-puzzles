{
 "cells": [
  {
   "cell_type": "markdown",
   "id": "1b650e26",
   "metadata": {},
   "source": [
    "A funny story about this particular problem: I spent the last two weeks of my internship at this time working on this problem as a way to procrastinate on my work. I felt incredibly burnt out and disillusioned with my work at the time, and solving Jane Street Problems such as this one served to help me feel like I was still developing my career, while doing something that I loved."
   ]
  },
  {
   "cell_type": "code",
   "execution_count": null,
   "id": "35a07d55",
   "metadata": {},
   "outputs": [],
   "source": []
  }
 ],
 "metadata": {
  "kernelspec": {
   "display_name": "Python 3 (ipykernel)",
   "language": "python",
   "name": "python3"
  },
  "language_info": {
   "codemirror_mode": {
    "name": "ipython",
    "version": 3
   },
   "file_extension": ".py",
   "mimetype": "text/x-python",
   "name": "python",
   "nbconvert_exporter": "python",
   "pygments_lexer": "ipython3",
   "version": "3.11.4"
  }
 },
 "nbformat": 4,
 "nbformat_minor": 5
}
