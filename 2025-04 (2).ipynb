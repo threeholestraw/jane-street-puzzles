{
 "cells": [
  {
   "cell_type": "markdown",
   "id": "98f51178",
   "metadata": {
    "id": "98f51178"
   },
   "source": [
    "**Problem:** For a fixed p, independently label the nodes of an infinite complete binary tree 0 with probability p, and 1 otherwise. For what p is there exactly a 1/2 probability that there exists an infinite path down the tree that sums to at most 1 (that is, all nodes visited, with the possible exception of one, will be labeled 0). Find this value of p accurate to 10 decimal places."
   ]
  },
  {
   "cell_type": "markdown",
   "id": "a0191c22",
   "metadata": {
    "id": "a0191c22"
   },
   "source": [
    "Maybe we can calculate the limit of this value as height approaches infty?"
   ]
  },
  {
   "cell_type": "markdown",
   "id": "e6b513b4",
   "metadata": {
    "id": "e6b513b4"
   },
   "source": [
    "**Wait, we can just use a recursive definition...**\n",
    "\n",
    "Let the probability of the question given a node-probability of $p$ be $P$. To find a recursive definition for $P$, we should find a recursive definition for the probability of a path with only $0$s."
   ]
  },
  {
   "cell_type": "markdown",
   "id": "f6dd405f",
   "metadata": {
    "id": "f6dd405f"
   },
   "source": [
    "Let the probability of a path on this tree having only 0s be $Q$.\n",
    "* Probability of tree having 1 in every path: $1-Q$\n",
    "* Probability of 1 in root node: $1-p$\n",
    "* Probability of having NO paths with all 0s: $1-p+p \\times \\: $ prob. of no such paths in both subtrees = $1-p + p(1-Q)^2$\n",
    "\n",
    "Therefore,\n",
    "$$1 - Q = 1-p + p(1-Q)^2 \\implies Q = 2 - 1/p$$\n",
    "Now, we calculate the probability of not having a path as outlined in the problem.\n",
    "* Probability for each of two subtrees of having two+ ones in every path: $1 - P$\n",
    "* Probability of 1 in root node: $1-p$\n",
    "* Probability of having no such paths given the root node is 1: $(1 - Q)^2$\n",
    "* Probability of having no such paths given the root node is 0: $(1 - P)^2$\n",
    "* Probability of having no such paths: $(1-p)(1-Q)^2 + p(1-P)^2$\n",
    "\n",
    "Therefore,\n",
    "$$1-P = (1-p)(1-Q)^2 + p(1-P)^2 \\implies 1 - P = (1-p)(1-(2 - 1/p))^2 + p(1-P)^2$$\n",
    "$$P = \\frac{2p-1 \\pm \\sqrt{(4p^3 - 12p^2 + 13p - 4) / p}}{2p}$$\n",
    "Setting $P$ as 1/2:\n",
    "$$p + \\sqrt{(4p^3 - 12p^2 + 13p - 4) / p} = 1$$\n",
    "$$(4p^3 - 12p^2 + 13p - 4) / p = (1-p)^2$$\n",
    "$$3p^2 - 10p^2 + 12p - 4 = 0$$"
   ]
  },
  {
   "cell_type": "code",
   "execution_count": 3,
   "id": "9a4a0179",
   "metadata": {
    "colab": {
     "base_uri": "https://localhost:8080/"
    },
    "id": "9a4a0179",
    "outputId": "cbeb9755-2385-4e78-e7d9-7bc57cacb449"
   },
   "outputs": [
    {
     "data": {
      "text/plain": [
       "np.float64(0.5306035710459599)"
      ]
     },
     "execution_count": 3,
     "metadata": {},
     "output_type": "execute_result"
    }
   ],
   "source": [
    "# Solution from yesterday that I thought was correct\n",
    "def find_real_poly_root(p):\n",
    "    # returns the above polynomial squared\n",
    "    return (4 * (1 - p) ** 3 + p ** 3 - 2 * p ** 2) ** 2\n",
    "\n",
    "from scipy.optimize import minimize\n",
    "minimize(\n",
    "    fun=find_real_poly_root,\n",
    "    x0=(0.5,),\n",
    "    bounds=((0, 1),),\n",
    "    method='L-BFGS-B',\n",
    "    options={'ftol': 1e-20, 'gtol': 1e-20, 'maxiter': 100000000}\n",
    ").x[0]"
   ]
  },
  {
   "cell_type": "code",
   "execution_count": 4,
   "id": "65428609",
   "metadata": {
    "colab": {
     "base_uri": "https://localhost:8080/"
    },
    "id": "65428609",
    "outputId": "6dd97928-3d85-4ff2-f529-3516213e6a4a"
   },
   "outputs": [
    {
     "data": {
      "text/plain": [
       "np.float64(0.530603571045983)"
      ]
     },
     "execution_count": 4,
     "metadata": {},
     "output_type": "execute_result"
    }
   ],
   "source": [
    "# Another attempt...\n",
    "def find_real_poly_root_v2(p):\n",
    "    # returns the above polynomial squared\n",
    "    return (3*p**3 - 10*p**2 + 12*p - 4) ** 2\n",
    "\n",
    "from scipy.optimize import minimize\n",
    "minimize(\n",
    "    fun=find_real_poly_root_v2,\n",
    "    x0=(0.5,),\n",
    "    bounds=((0, 1),),\n",
    "    method='L-BFGS-B',\n",
    "    options={'ftol': 1e-20, 'gtol': 1e-20, 'maxiter': 100000000}\n",
    ").x[0]"
   ]
  },
  {
   "cell_type": "markdown",
   "id": "3579d656",
   "metadata": {
    "id": "3579d656"
   },
   "source": [
    "I initially submitted the solution from the first code block. I didn't see my name on the leaderboard, so I decided to try again on this file. I got the same answer..."
   ]
  },
  {
   "cell_type": "markdown",
   "id": "199bb789",
   "metadata": {
    "id": "199bb789"
   },
   "source": [
    "Here is a man with a goatee:\n",
    "\n",
    "$\\text{:)>}$"
   ]
  }
 ],
 "metadata": {
  "colab": {
   "provenance": []
  },
  "kernelspec": {
   "display_name": "Python 3 (ipykernel)",
   "language": "python",
   "name": "python3"
  },
  "language_info": {
   "codemirror_mode": {
    "name": "ipython",
    "version": 3
   },
   "file_extension": ".py",
   "mimetype": "text/x-python",
   "name": "python",
   "nbconvert_exporter": "python",
   "pygments_lexer": "ipython3",
   "version": "3.11.4"
  }
 },
 "nbformat": 4,
 "nbformat_minor": 5
}
