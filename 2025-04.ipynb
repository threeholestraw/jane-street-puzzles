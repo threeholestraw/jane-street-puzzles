{
 "cells": [
  {
   "cell_type": "markdown",
   "id": "98f51178",
   "metadata": {},
   "source": [
    "**Problem:** For a fixed p, independently label the nodes of an infinite complete binary tree 0 with probability p, and 1 otherwise. For what p is there exactly a 1/2 probability that there exists an infinite path down the tree that sums to at most 1 (that is, all nodes visited, with the possible exception of one, will be labeled 0). Find this value of p accurate to 10 decimal places."
   ]
  },
  {
   "cell_type": "markdown",
   "id": "a0191c22",
   "metadata": {},
   "source": [
    "Maybe we can calculate the limit of this value as height approaches infty?"
   ]
  },
  {
   "cell_type": "markdown",
   "id": "e6b513b4",
   "metadata": {},
   "source": [
    "**Wait, we can just use a recursive definition...**\n",
    "\n",
    "Let the probability of the question given a node-probability of $p$ be $P$. To find a recursive definition for $P$, we should find a recursive definition for the probability of a path with only $0$s."
   ]
  },
  {
   "cell_type": "markdown",
   "id": "f6dd405f",
   "metadata": {},
   "source": [
    "Let the probability of a path on this tree having only 0s be $Q$.\n",
    "$$Q = p \\times (1 - (1-Q)^2) = p \\times (2Q - Q^2) \\implies Q = 2 - \\frac{1}{p}$$\n",
    "Now, we calculate the probability of not having a path as outlined in the problem.\n",
    "$$\\begin{aligned}\n",
    "    1-P &= p(1-P)^2 + (1-p)(1 - Q)^2 \\\\\n",
    "    &= p(1-P)^2 + (1-p)(1/p - 1)^2 \\\\\n",
    "    1-P &= \\frac{1/p - \\sqrt{1/p^2 - 4\\left(\\frac{1-p}{p}\\right)^3}}{2} \\\\\n",
    "    2p^2 - p^3 &= 4(1-p)^3 \\text{ Assuming that 1-P=1/2, so numerator is 1}\n",
    "\\end{aligned}$$\n"
   ]
  },
  {
   "cell_type": "code",
   "execution_count": 9,
   "id": "9a4a0179",
   "metadata": {},
   "outputs": [
    {
     "data": {
      "text/plain": [
       "0.5306035710459599"
      ]
     },
     "execution_count": 9,
     "metadata": {},
     "output_type": "execute_result"
    }
   ],
   "source": [
    "def find_real_poly_root(p):\n",
    "    # returns the above polynomial squared\n",
    "    return (4 * (1 - p) ** 3 + p ** 3 - 2 * p ** 2) ** 2\n",
    "\n",
    "from scipy.optimize import minimize\n",
    "minimize(\n",
    "    fun=find_real_poly_root, \n",
    "    x0=(0.5,), \n",
    "    bounds=((0, 1),), \n",
    "    method='L-BFGS-B', \n",
    "    options={'ftol': 1e-12, 'gtol': 1e-12, 'maxiter': 10000}\n",
    ").x[0]"
   ]
  },
  {
   "cell_type": "markdown",
   "id": "a7ad1b97",
   "metadata": {},
   "source": [
    "I just submitted so I don't know if I'm right yet..."
   ]
  },
  {
   "cell_type": "markdown",
   "id": "eb7629c0",
   "metadata": {},
   "source": [
    "In case I'm right, we can use the same method to make a recursive formula for any amount of 1s. Super interesting!"
   ]
  },
  {
   "cell_type": "markdown",
   "id": "199bb789",
   "metadata": {},
   "source": [
    "Here is a man with a goatee:\n",
    "\n",
    "$\\text{:)>}$"
   ]
  }
 ],
 "metadata": {
  "kernelspec": {
   "display_name": "Python 3 (ipykernel)",
   "language": "python",
   "name": "python3"
  },
  "language_info": {
   "codemirror_mode": {
    "name": "ipython",
    "version": 3
   },
   "file_extension": ".py",
   "mimetype": "text/x-python",
   "name": "python",
   "nbconvert_exporter": "python",
   "pygments_lexer": "ipython3",
   "version": "3.11.4"
  }
 },
 "nbformat": 4,
 "nbformat_minor": 5
}
